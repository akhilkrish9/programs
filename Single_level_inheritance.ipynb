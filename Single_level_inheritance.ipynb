{
 "cells": [
  {
   "cell_type": "code",
   "execution_count": 4,
   "id": "734233ab-1742-4ef8-a3d5-3bc6212a8c49",
   "metadata": {},
   "outputs": [
    {
     "name": "stdout",
     "output_type": "stream",
     "text": [
      "__main__\n",
      "Bike\n",
      "100\n",
      "Cycle\n"
     ]
    }
   ],
   "source": [
    "class Parent:\n",
    "    def __init__(self):\n",
    "        self.x = 100\n",
    "\n",
    "    def bike(self):\n",
    "        print(\"Bike\")\n",
    "\n",
    "\n",
    "class Child(Parent):\n",
    "    def cycle(self):\n",
    "        print(\"Cycle\")\n",
    "\n",
    "\n",
    "if __name__ == \"__main__\":\n",
    "    print(__name__)\n",
    "    p = Parent()\n",
    "    p.bike()\n",
    "    print(p.x)\n",
    "    c = Child()\n",
    "    c.cycle()"
   ]
  },
  {
   "cell_type": "code",
   "execution_count": null,
   "id": "ca496f9e-48db-4d07-88b1-515fa3ae44ca",
   "metadata": {},
   "outputs": [],
   "source": []
  }
 ],
 "metadata": {
  "kernelspec": {
   "display_name": "Python 3 (ipykernel)",
   "language": "python",
   "name": "python3"
  },
  "language_info": {
   "codemirror_mode": {
    "name": "ipython",
    "version": 3
   },
   "file_extension": ".py",
   "mimetype": "text/x-python",
   "name": "python",
   "nbconvert_exporter": "python",
   "pygments_lexer": "ipython3",
   "version": "3.13.1"
  }
 },
 "nbformat": 4,
 "nbformat_minor": 5
}
